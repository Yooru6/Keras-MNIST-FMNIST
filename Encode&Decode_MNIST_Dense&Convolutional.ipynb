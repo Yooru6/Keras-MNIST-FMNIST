{
  "nbformat": 4,
  "nbformat_minor": 0,
  "metadata": {
    "colab": {
      "name": "Encode/Decode-MNIST-Dense/Convolutional.ipynb",
      "provenance": [],
      "collapsed_sections": [],
      "toc_visible": true,
      "authorship_tag": "ABX9TyPDTMKWBEUr1Nxj2AQU8LRN",
      "include_colab_link": true
    },
    "kernelspec": {
      "name": "python3",
      "display_name": "Python 3"
    },
    "accelerator": "GPU"
  },
  "cells": [
    {
      "cell_type": "markdown",
      "metadata": {
        "id": "view-in-github",
        "colab_type": "text"
      },
      "source": [
        "<a href=\"https://colab.research.google.com/github/Yooru6/Keras-MNIST-FMNIST/blob/master/Encode%26Decode_MNIST_Dense%26Convolutional.ipynb\" target=\"_parent\"><img src=\"https://colab.research.google.com/assets/colab-badge.svg\" alt=\"Open In Colab\"/></a>"
      ]
    },
    {
      "cell_type": "markdown",
      "metadata": {
        "id": "Hlp1mOSNIiuW",
        "colab_type": "text"
      },
      "source": [
        "# Ecoding & Decoding with Dense and Convoutional Neural Network\n",
        "- examples with Dense- & Convolutional NN\n",
        "- technique can be used to reconstruct images with bad quality <br>\n",
        "\n",
        "as guide i used article named \"Making an Autoencoder\" written by Arvin Singh Kushwaha: https://towardsdatascience.com/how-to-make-an-autoencoder-2f2d99cd5103"
      ]
    },
    {
      "cell_type": "code",
      "metadata": {
        "id": "8LvD6r-unw0s",
        "colab_type": "code",
        "colab": {}
      },
      "source": [
        "from tensorflow.keras.datasets import mnist\n",
        "from tensorflow.keras.layers import Dense, Input, Flatten,Reshape, LeakyReLU, Activation, Dropout\n",
        "from tensorflow.keras.models import Model, Sequential\n",
        "from matplotlib import pyplot as plt\n",
        "from IPython import display # If using IPython, Colab or Jupyter\n",
        "import numpy as np\n",
        "import tensorflow as tf\n",
        "\n",
        "from keras.layers import Input, Dense, Conv2D, MaxPooling2D, UpSampling2D\n",
        "from keras import backend as K"
      ],
      "execution_count": 0,
      "outputs": []
    },
    {
      "cell_type": "markdown",
      "metadata": {
        "id": "Em3-femULpSR",
        "colab_type": "text"
      },
      "source": [
        "## Dense\n",
        "### Data\n",
        "- load data\n",
        "- plot samples"
      ]
    },
    {
      "cell_type": "code",
      "metadata": {
        "id": "ofv0ny35oLxS",
        "colab_type": "code",
        "colab": {}
      },
      "source": [
        "(x_train, y_train), (x_test, y_test) = mnist.load_data()\n",
        "x_train = x_train/255.0\n",
        "x_test = x_test/255.0"
      ],
      "execution_count": 0,
      "outputs": []
    },
    {
      "cell_type": "code",
      "metadata": {
        "id": "ipA8S1DNoUi_",
        "colab_type": "code",
        "outputId": "4b4eb4fd-871e-4d27-85d9-b8141c62f7a0",
        "colab": {
          "base_uri": "https://localhost:8080/",
          "height": 529
        }
      },
      "source": [
        "# Plot image data from x_train\n",
        "fig, ax = plt.subplots(3, 3, figsize=(15, 7))\n",
        "ax = ax.ravel()\n",
        "plt.tight_layout()\n",
        "\n",
        "for i in range(7):\n",
        "    #set_path = train_dir+_set\n",
        "    ax[i].imshow(x_train[i],cmap='gray')\n",
        "    ax[i].set_title(y_train[i],fontsize=18)\n",
        "    ax[i+2].imshow(x_train[i+1],cmap='gray')\n",
        "    ax[i+2].set_title(y_train[i+1],fontsize=18)"
      ],
      "execution_count": 0,
      "outputs": [
        {
          "output_type": "display_data",
          "data": {
            "image/png": "[encoded data removed]",
            "text/plain": [
              "<Figure size 1080x504 with 9 Axes>"
            ]
          },
          "metadata": {
            "tags": [],
            "needs_background": "light"
          }
        }
      ]
    },
    {
      "cell_type": "markdown",
      "metadata": {
        "id": "qY0Q8uumEwKG",
        "colab_type": "text"
      },
      "source": [
        "### Model\n",
        "- Ecoder and Decoder\n",
        "- 28x28 image file to size 32"
      ]
    },
    {
      "cell_type": "code",
      "metadata": {
        "id": "06qcEJEjoWSc",
        "colab_type": "code",
        "colab": {}
      },
      "source": [
        "LATENT_SIZE = 32"
      ],
      "execution_count": 0,
      "outputs": []
    },
    {
      "cell_type": "code",
      "metadata": {
        "id": "jzWAt99UtyMz",
        "colab_type": "code",
        "colab": {}
      },
      "source": [
        "encoder = Sequential([\n",
        "     tf.keras.layers.Flatten(input_shape = (28, 28)),\n",
        "\n",
        "     tf.keras.layers.Dense(512),\n",
        "     tf.keras.layers.LeakyReLU(),\n",
        "     tf.keras.layers.Dropout(0.5),\n",
        "\n",
        "     tf.keras.layers.Dense(256),\n",
        "     tf.keras.layers.LeakyReLU(),\n",
        "     tf.keras.layers.Dropout(0.5),\n",
        "\n",
        "     tf.keras.layers.Dense(128),\n",
        "     tf.keras.layers.LeakyReLU(),\n",
        "     tf.keras.layers.Dropout(0.5),\n",
        "\n",
        "     tf.keras.layers.Dense(64),\n",
        "     tf.keras.layers.LeakyReLU(),\n",
        "     tf.keras.layers.Dropout(0.5),\n",
        "\n",
        "     tf.keras.layers.Dense(LATENT_SIZE),\n",
        "     tf.keras.layers.LeakyReLU()\n",
        "])\n",
        "\n",
        "\n",
        "decoder = Sequential([\n",
        "     tf.keras.layers.Dense(64, input_shape = (LATENT_SIZE,)),\n",
        "     tf.keras.layers.LeakyReLU(),\n",
        "     tf.keras.layers.Dropout(0.5),\n",
        "\n",
        "     tf.keras.layers.Dense(128),\n",
        "     tf.keras.layers.LeakyReLU(),\n",
        "     tf.keras.layers.Dropout(0.5),\n",
        "\n",
        "     tf.keras.layers.Dense(256),\n",
        "     tf.keras.layers.LeakyReLU(),\n",
        "     tf.keras.layers.Dropout(0.5),\n",
        "\n",
        "     tf.keras.layers.Dense(512),\n",
        "     tf.keras.layers.LeakyReLU(),\n",
        "     tf.keras.layers.Dropout(0.5),\n",
        "\n",
        "     tf.keras.layers.Dense(784),\n",
        "     tf.keras.layers.Activation(\"sigmoid\"),\n",
        "\n",
        "     tf.keras.layers.Reshape((28, 28))\n",
        "])\n",
        "\n",
        "\n",
        "img =  tf.keras.layers.Input(shape = (28, 28))\n",
        "latent_vector = encoder(img)\n",
        "output = decoder(latent_vector)"
      ],
      "execution_count": 0,
      "outputs": []
    },
    {
      "cell_type": "code",
      "metadata": {
        "id": "P7_hRUFuuELW",
        "colab_type": "code",
        "outputId": "5adb354c-0eb7-4d0e-97d6-8079b61c30a4",
        "colab": {
          "base_uri": "https://localhost:8080/",
          "height": 1000
        }
      },
      "source": [
        "model = Model(inputs = img, outputs = output)\n",
        "model.compile(\"nadam\", loss = \"binary_crossentropy\")\n",
        "encoder.summary()\n",
        "decoder.summary()"
      ],
      "execution_count": 0,
      "outputs": [
        {
          "output_type": "stream",
          "text": [
            "Model: \"sequential_8\"\n",
            "_________________________________________________________________\n",
            "Layer (type)                 Output Shape              Param #   \n",
            "=================================================================\n",
            "flatten_2 (Flatten)          (None, 784)               0         \n",
            "_________________________________________________________________\n",
            "dense_20 (Dense)             (None, 512)               401920    \n",
            "_________________________________________________________________\n",
            "leaky_re_lu_18 (LeakyReLU)   (None, 512)               0         \n",
            "_________________________________________________________________\n",
            "dropout_16 (Dropout)         (None, 512)               0         \n",
            "_________________________________________________________________\n",
            "dense_21 (Dense)             (None, 256)               131328    \n",
            "_________________________________________________________________\n",
            "leaky_re_lu_19 (LeakyReLU)   (None, 256)               0         \n",
            "_________________________________________________________________\n",
            "dropout_17 (Dropout)         (None, 256)               0         \n",
            "_________________________________________________________________\n",
            "dense_22 (Dense)             (None, 128)               32896     \n",
            "_________________________________________________________________\n",
            "leaky_re_lu_20 (LeakyReLU)   (None, 128)               0         \n",
            "_________________________________________________________________\n",
            "dropout_18 (Dropout)         (None, 128)               0         \n",
            "_________________________________________________________________\n",
            "dense_23 (Dense)             (None, 64)                8256      \n",
            "_________________________________________________________________\n",
            "leaky_re_lu_21 (LeakyReLU)   (None, 64)                0         \n",
            "_________________________________________________________________\n",
            "dropout_19 (Dropout)         (None, 64)                0         \n",
            "_________________________________________________________________\n",
            "dense_24 (Dense)             (None, 32)                2080      \n",
            "_________________________________________________________________\n",
            "leaky_re_lu_22 (LeakyReLU)   (None, 32)                0         \n",
            "=================================================================\n",
            "Total params: 576,480\n",
            "Trainable params: 576,480\n",
            "Non-trainable params: 0\n",
            "_________________________________________________________________\n",
            "Model: \"sequential_9\"\n",
            "_________________________________________________________________\n",
            "Layer (type)                 Output Shape              Param #   \n",
            "=================================================================\n",
            "dense_25 (Dense)             (None, 64)                2112      \n",
            "_________________________________________________________________\n",
            "leaky_re_lu_23 (LeakyReLU)   (None, 64)                0         \n",
            "_________________________________________________________________\n",
            "dropout_20 (Dropout)         (None, 64)                0         \n",
            "_________________________________________________________________\n",
            "dense_26 (Dense)             (None, 128)               8320      \n",
            "_________________________________________________________________\n",
            "leaky_re_lu_24 (LeakyReLU)   (None, 128)               0         \n",
            "_________________________________________________________________\n",
            "dropout_21 (Dropout)         (None, 128)               0         \n",
            "_________________________________________________________________\n",
            "dense_27 (Dense)             (None, 256)               33024     \n",
            "_________________________________________________________________\n",
            "leaky_re_lu_25 (LeakyReLU)   (None, 256)               0         \n",
            "_________________________________________________________________\n",
            "dropout_22 (Dropout)         (None, 256)               0         \n",
            "_________________________________________________________________\n",
            "dense_28 (Dense)             (None, 512)               131584    \n",
            "_________________________________________________________________\n",
            "leaky_re_lu_26 (LeakyReLU)   (None, 512)               0         \n",
            "_________________________________________________________________\n",
            "dropout_23 (Dropout)         (None, 512)               0         \n",
            "_________________________________________________________________\n",
            "dense_29 (Dense)             (None, 784)               402192    \n",
            "_________________________________________________________________\n",
            "activation_2 (Activation)    (None, 784)               0         \n",
            "_________________________________________________________________\n",
            "reshape_4 (Reshape)          (None, 28, 28)            0         \n",
            "=================================================================\n",
            "Total params: 577,232\n",
            "Trainable params: 577,232\n",
            "Non-trainable params: 0\n",
            "_________________________________________________________________\n"
          ],
          "name": "stdout"
        }
      ]
    },
    {
      "cell_type": "markdown",
      "metadata": {
        "id": "7K6gax3FFEwO",
        "colab_type": "text"
      },
      "source": [
        "### Train & Plot\n",
        "- squeezing the image to single vector of 32\n",
        "- recontructing image to original size(28x28) with decoder"
      ]
    },
    {
      "cell_type": "code",
      "metadata": {
        "id": "QRzxzh__uKsp",
        "colab_type": "code",
        "outputId": "9350a6c0-07bb-4bd1-8cee-5a1d922e7050",
        "colab": {
          "base_uri": "https://localhost:8080/",
          "height": 501
        }
      },
      "source": [
        "EPOCHS = 60\n",
        "\n",
        "for epoch in range(EPOCHS):\n",
        "    fig, axs = plt.subplots(4, 4, figsize=(12, 8))\n",
        "    rand = x_test[np.random.randint(0, 10000, 16)].reshape((4, 4, 1, 28, 28))\n",
        "    \n",
        "    display.clear_output()\n",
        "    \n",
        "    for i in range(4):\n",
        "        for j in range(4):\n",
        "            axs[i, j].imshow(model.predict(rand[i, j])[0], cmap = \"gray\")\n",
        "            axs[i, j].axis(\"off\")\n",
        "    \n",
        "    plt.subplots_adjust(wspace = 0, hspace = 0)\n",
        "    plt.show()\n",
        "    print(\"------\", \"EPOCH\", epoch, \"------\")\n",
        "    model.fit(x_train, x_train,batch_size=128,shuffle=True,validation_data=(x_test, x_test))"
      ],
      "execution_count": 0,
      "outputs": [
        {
          "output_type": "display_data",
          "data": {
            "image/png": "[encoded data removed]",
            "text/plain": [
              "<Figure size 864x576 with 16 Axes>"
            ]
          },
          "metadata": {
            "tags": [],
            "needs_background": "light"
          }
        },
        {
          "output_type": "stream",
          "text": [
            "------ EPOCH 59 ------\n",
            "469/469 [==============================] - 3s 6ms/step - loss: 0.1828 - val_loss: 0.1563\n"
          ],
          "name": "stdout"
        }
      ]
    },
    {
      "cell_type": "markdown",
      "metadata": {
        "id": "3zSn8pVzMXDo",
        "colab_type": "text"
      },
      "source": [
        "## Convolutional"
      ]
    },
    {
      "cell_type": "markdown",
      "metadata": {
        "id": "j4cElj44mOIE",
        "colab_type": "text"
      },
      "source": [
        "### Data"
      ]
    },
    {
      "cell_type": "code",
      "metadata": {
        "id": "kBsZhdqpTUir",
        "colab_type": "code",
        "colab": {}
      },
      "source": [
        "(x_train, y_train), (x_test, y_test) = mnist.load_data()\n",
        "\n",
        "x_train = x_train.astype('float32') / 255.\n",
        "x_test = x_test.astype('float32') / 255.\n",
        "x_train = np.reshape(x_train, (len(x_train), 28, 28, 1))  # adapt this if using `channels_first` image data format\n",
        "x_test = np.reshape(x_test, (len(x_test), 28, 28, 1))"
      ],
      "execution_count": 0,
      "outputs": []
    },
    {
      "cell_type": "markdown",
      "metadata": {
        "id": "lGPkouxJmRAd",
        "colab_type": "text"
      },
      "source": [
        "### Model\n",
        "- encoder\n",
        "-decoder"
      ]
    },
    {
      "cell_type": "code",
      "metadata": {
        "id": "ZwZB3qYqufOe",
        "colab_type": "code",
        "colab": {}
      },
      "source": [
        "import tensorflow as tf\n",
        "#from tensorflow.keras.models import Model\n",
        "\n",
        "encoder = Sequential([\n",
        "\n",
        "  tf.keras.layers.Conv2D(32, (3, 3), activation=\"relu\", padding='same'),\n",
        "  tf.keras.layers.MaxPooling2D((2,2),padding=\"same\"),\n",
        "\n",
        "  tf.keras.layers.Conv2D(16, (3, 3), activation=\"relu\", padding='same'),\n",
        "  tf.keras.layers.MaxPooling2D((2,2),padding=\"same\"),\n",
        "\n",
        "  tf.keras.layers.Conv2D(16,(3, 3), activation=\"relu\", padding='same'),\n",
        "  tf.keras.layers.MaxPooling2D((2,2),padding=\"same\"),\n",
        "\n",
        "  tf.keras.layers.Conv2D(8,(3, 3), activation=\"relu\", padding='same'),\n",
        "  tf.keras.layers.MaxPooling2D((2,2),padding=\"same\")\n",
        "\n",
        "])\n",
        "\n",
        "decoder = Sequential([\n",
        "  \n",
        "  tf.keras.layers.Conv2D(8,(3, 3), activation=\"relu\", padding='same'),\n",
        "  tf.keras.layers.UpSampling2D((2,2)),\n",
        "\n",
        "  tf.keras.layers.Conv2D(16,(3, 3), activation=\"relu\", padding='same'),\n",
        "  tf.keras.layers.UpSampling2D((2,2)),\n",
        "\n",
        "  tf.keras.layers.Conv2D(16, (3, 3), activation=\"relu\", padding='same'),\n",
        "  tf.keras.layers.UpSampling2D((2,2)),\n",
        "\n",
        "  tf.keras.layers.Conv2D(32, (3, 3), activation=\"relu\"),\n",
        "  tf.keras.layers.UpSampling2D((2,2)),\n",
        "\n",
        "  tf.keras.layers.Conv2D(1, (3, 3), activation=\"sigmoid\", padding='same'),\n",
        "  tf.keras.layers.Reshape((28, 28))\n",
        "\n",
        "])"
      ],
      "execution_count": 0,
      "outputs": []
    },
    {
      "cell_type": "code",
      "metadata": {
        "id": "Ea6x-cFFSNZc",
        "colab_type": "code",
        "outputId": "b69f2f98-e126-41f1-e2ed-e545f27d18ce",
        "colab": {
          "base_uri": "https://localhost:8080/",
          "height": 918
        }
      },
      "source": [
        "#Model=None\n",
        "img = tf.keras.layers.Input(shape = (28, 28, 1))\n",
        "latent_vector = encoder(img)\n",
        "output = decoder(latent_vector)\n",
        "\n",
        "model = Model(inputs = img, outputs = output)\n",
        "model.compile(optimizer='adam',\n",
        "              loss='binary_crossentropy')\n",
        "#model.summary()\n",
        "encoder.summary()\n",
        "decoder.summary()"
      ],
      "execution_count": 0,
      "outputs": [
        {
          "output_type": "stream",
          "text": [
            "Model: \"sequential_6\"\n",
            "_________________________________________________________________\n",
            "Layer (type)                 Output Shape              Param #   \n",
            "=================================================================\n",
            "conv2d_9 (Conv2D)            (None, 28, 28, 32)        320       \n",
            "_________________________________________________________________\n",
            "max_pooling2d_4 (MaxPooling2 (None, 14, 14, 32)        0         \n",
            "_________________________________________________________________\n",
            "conv2d_10 (Conv2D)           (None, 14, 14, 16)        4624      \n",
            "_________________________________________________________________\n",
            "max_pooling2d_5 (MaxPooling2 (None, 7, 7, 16)          0         \n",
            "_________________________________________________________________\n",
            "conv2d_11 (Conv2D)           (None, 7, 7, 16)          2320      \n",
            "_________________________________________________________________\n",
            "max_pooling2d_6 (MaxPooling2 (None, 4, 4, 16)          0         \n",
            "_________________________________________________________________\n",
            "conv2d_12 (Conv2D)           (None, 4, 4, 8)           1160      \n",
            "_________________________________________________________________\n",
            "max_pooling2d_7 (MaxPooling2 (None, 2, 2, 8)           0         \n",
            "=================================================================\n",
            "Total params: 8,424\n",
            "Trainable params: 8,424\n",
            "Non-trainable params: 0\n",
            "_________________________________________________________________\n",
            "Model: \"sequential_7\"\n",
            "_________________________________________________________________\n",
            "Layer (type)                 Output Shape              Param #   \n",
            "=================================================================\n",
            "conv2d_13 (Conv2D)           (None, 2, 2, 8)           584       \n",
            "_________________________________________________________________\n",
            "up_sampling2d_4 (UpSampling2 (None, 4, 4, 8)           0         \n",
            "_________________________________________________________________\n",
            "conv2d_14 (Conv2D)           (None, 4, 4, 16)          1168      \n",
            "_________________________________________________________________\n",
            "up_sampling2d_5 (UpSampling2 (None, 8, 8, 16)          0         \n",
            "_________________________________________________________________\n",
            "conv2d_15 (Conv2D)           (None, 8, 8, 16)          2320      \n",
            "_________________________________________________________________\n",
            "up_sampling2d_6 (UpSampling2 (None, 16, 16, 16)        0         \n",
            "_________________________________________________________________\n",
            "conv2d_16 (Conv2D)           (None, 14, 14, 32)        4640      \n",
            "_________________________________________________________________\n",
            "up_sampling2d_7 (UpSampling2 (None, 28, 28, 32)        0         \n",
            "_________________________________________________________________\n",
            "conv2d_17 (Conv2D)           (None, 28, 28, 1)         289       \n",
            "_________________________________________________________________\n",
            "reshape_3 (Reshape)          (None, 28, 28)            0         \n",
            "=================================================================\n",
            "Total params: 9,001\n",
            "Trainable params: 9,001\n",
            "Non-trainable params: 0\n",
            "_________________________________________________________________\n"
          ],
          "name": "stdout"
        }
      ]
    },
    {
      "cell_type": "code",
      "metadata": {
        "id": "amPyRxAKjzMD",
        "colab_type": "code",
        "colab": {}
      },
      "source": [
        ""
      ],
      "execution_count": 0,
      "outputs": []
    },
    {
      "cell_type": "markdown",
      "metadata": {
        "id": "G2S-WuFyoWCQ",
        "colab_type": "text"
      },
      "source": [
        "### Train & Plot\n",
        "- training model\n",
        "  - squeezing image to size 32\n",
        "  - while training plotting example image after each epoch"
      ]
    },
    {
      "cell_type": "code",
      "metadata": {
        "id": "rPz45Lp3MLHV",
        "colab_type": "code",
        "outputId": "3c1b2a0e-d88d-40e6-f15e-843ccf76257d",
        "colab": {
          "base_uri": "https://localhost:8080/",
          "height": 501
        }
      },
      "source": [
        "EPOCHS = 60\n",
        "\n",
        "for epoch in range(EPOCHS):\n",
        "    fig, axs = plt.subplots(4, 4, figsize=(12, 8))\n",
        "    rand = x_test[np.random.randint(0, 10000, 16)].reshape((4, 4, 1, 28, 28))\n",
        "    \n",
        "    display.clear_output()\n",
        "    \n",
        "    for i in range(4):\n",
        "        for j in range(4):\n",
        "            axs[i, j].imshow(model.predict(rand[i, j])[0], cmap = \"gray\")\n",
        "            axs[i, j].axis(\"off\")\n",
        "    \n",
        "    plt.subplots_adjust(wspace = 0, hspace = 0)\n",
        "    plt.show()\n",
        "    print(\"------\", \"EPOCH\", epoch, \"------\")\n",
        "    model.fit(x_train, x_train,batch_size=128,shuffle=True,validation_data=(x_test, x_test))"
      ],
      "execution_count": 0,
      "outputs": [
        {
          "output_type": "display_data",
          "data": {
            "image/png": "[encoded data removed]",
            "text/plain": [
              "<Figure size 864x576 with 16 Axes>"
            ]
          },
          "metadata": {
            "tags": [],
            "needs_background": "light"
          }
        },
        {
          "output_type": "stream",
          "text": [
            "------ EPOCH 59 ------\n",
            "469/469 [==============================] - 3s 7ms/step - loss: 0.0965 - val_loss: 0.0957\n"
          ],
          "name": "stdout"
        }
      ]
    }
  ]
}